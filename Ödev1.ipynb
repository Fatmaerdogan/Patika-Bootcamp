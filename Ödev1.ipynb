{
  "nbformat": 4,
  "nbformat_minor": 0,
  "metadata": {
    "colab": {
      "provenance": [],
      "authorship_tag": "ABX9TyO8Hm+UFip9Arghj2fip5V9",
      "include_colab_link": true
    },
    "kernelspec": {
      "name": "python3",
      "display_name": "Python 3"
    },
    "language_info": {
      "name": "python"
    }
  },
  "cells": [
    {
      "cell_type": "markdown",
      "metadata": {
        "id": "view-in-github",
        "colab_type": "text"
      },
      "source": [
        "<a href=\"https://colab.research.google.com/github/Fatmaerdogan/Patika-Bootcamp/blob/main/%C3%96dev1.ipynb\" target=\"_parent\"><img src=\"https://colab.research.google.com/assets/colab-badge.svg\" alt=\"Open In Colab\"/></a>"
      ]
    },
    {
      "cell_type": "code",
      "execution_count": null,
      "metadata": {
        "id": "WKNRPvEd_DCd"
      },
      "outputs": [],
      "source": [
        "# girilen sayının pozitif, negatif veya sıfır olduğunu yazan koşul\n",
        "sayi= int(input(\"lütfen bir değer giriniz: \"))\n",
        "\n",
        "if sayi<0:\n",
        "    print(\"Girilen değer negatif\")\n",
        "elif sayi>0:\n",
        "    print(\"Girilen değer pozitif\")\n",
        "else:\n",
        "    print(\"Girilen değer sıfırdır\")"
      ]
    },
    {
      "cell_type": "code",
      "source": [
        "# girilen sayının tek mi çift mi olduğunu yazan koşul\n",
        "sayi= int(input(\"lütfen bir değer giriniz: \"))\n",
        "\n",
        "if sayi%2==0:\n",
        "    print(\"Girilen değer çift sayıdır\")\n",
        "else:\n",
        "    print(\"Girilen değer tek sayıdır\")"
      ],
      "metadata": {
        "id": "aaXT8Qyk_QQN"
      },
      "execution_count": null,
      "outputs": []
    },
    {
      "cell_type": "code",
      "source": [
        "# Girilen nota göre harf aralığını yazan koşul (80-100 A, 60-80 B vs.)\n",
        "question_not =int(input(\"lütfen sınav notunuzu giriniz: \"))\n",
        "\n",
        "if question_not<=100 and question_not>80:\n",
        "    print(\"A\")\n",
        "elif question_not<=80 and question_not>60:\n",
        "    print(\"B\")\n",
        "elif question_not<=60 and question_not>40:\n",
        "    print(\"C\")\n",
        "elif question_not<=40 and question_not>20:\n",
        "    print(\"D\")\n",
        "else:\n",
        "    print(\"E\")"
      ],
      "metadata": {
        "id": "VHs1VIek_Tl8"
      },
      "execution_count": null,
      "outputs": []
    },
    {
      "cell_type": "code",
      "source": [
        "# girilen ismin karakter sayısı 5den büyükse \"uzun bir isminiz var\" değilse ismini yazsın\n",
        "name= str(input(\"lütfen isminizi giriniz: \"))\n",
        "\n",
        "if len(name)>5:\n",
        "    print(\"uzun bir isminiz var\")\n",
        "else:\n",
        "    print(name)"
      ],
      "metadata": {
        "id": "fBwi_vob_V7r"
      },
      "execution_count": null,
      "outputs": []
    },
    {
      "cell_type": "code",
      "source": [
        "#2- Fonksiyon ile girilen sayının faktöriyelini alma (while)\n",
        "def faktoriyel(n):\n",
        "    sonuc = 1\n",
        "    i = 1\n",
        "    while i <= n:\n",
        "        sonuc *= i\n",
        "        i += 1\n",
        "    return sonuc\n",
        "\n",
        "sayi = int(input(\"Sayı girin: \"))\n",
        "print(\"Faktöriyel:\", faktoriyel(sayi))"
      ],
      "metadata": {
        "id": "ldoUFjM-_Wq0"
      },
      "execution_count": null,
      "outputs": []
    },
    {
      "cell_type": "code",
      "source": [
        "#2- Fonksiyon ile girilen sayının faktöriyelini alma (for)\n",
        "def faktoriyel(n):\n",
        "    sonuc = 1\n",
        "    for i in range(1, n + 1):\n",
        "        sonuc *= i\n",
        "    return sonuc\n",
        "\n",
        "sayi = int(input(\"Sayı girin: \"))\n",
        "print(\"Faktöriyel:\", faktoriyel(sayi))"
      ],
      "metadata": {
        "id": "uAQefA-I_jze"
      },
      "execution_count": null,
      "outputs": []
    },
    {
      "cell_type": "code",
      "source": [
        "#1- Fonksiyon ile girilen sayının asal olup olmadığını bulan yapı (while)\n",
        "def asal_mi(n):\n",
        "    if n <= 1:\n",
        "        return False\n",
        "    i = 2\n",
        "    while i < n:\n",
        "        if n % i == 0:\n",
        "            return False\n",
        "        i += 1\n",
        "    return True\n",
        "\n",
        "sayi = int(input(\"Sayı girin: \"))\n",
        "print(\"Asal\" if asal_mi(sayi) else \"Asal değil\")"
      ],
      "metadata": {
        "id": "fHjShq66_nUl"
      },
      "execution_count": null,
      "outputs": []
    },
    {
      "cell_type": "code",
      "source": [
        "#1- Fonksiyon ile girilen sayının asal olup olmadığını bulan yapı (for)\n",
        "def asal_mi(n):\n",
        "    if n <= 1:\n",
        "        return False\n",
        "    for i in range(2, n):\n",
        "        if n % i == 0:\n",
        "            return False\n",
        "    return True\n",
        "\n",
        "sayi = int(input(\"Sayı girin: \"))\n",
        "print(\"Asal\" if asal_mi(sayi) else \"Asal değil\")"
      ],
      "metadata": {
        "id": "jDUpwkTL_n_d"
      },
      "execution_count": null,
      "outputs": []
    },
    {
      "cell_type": "code",
      "source": [
        "#1- girilen bir sayının asal olup olmadığını veren döngü(for)\n",
        "\n",
        "num =int( input(\"Bir değer giriniz: \"))\n",
        "temp=False\n",
        "for i in range(2,num):\n",
        "    if num % i == 0: temp=True\n",
        "\n",
        "if temp ==True :\n",
        "  print(\"sayı asal değildir\")\n",
        "else:\n",
        "  print(\"sayı asaldır\")"
      ],
      "metadata": {
        "id": "abVIK3jr_qLd"
      },
      "execution_count": null,
      "outputs": []
    },
    {
      "cell_type": "code",
      "source": [
        "#1- girilen bir sayının asal olup olmadığını veren döngü(while)\n",
        "\n",
        "num =int( input(\"Bir değer giriniz: \"))\n",
        "\n",
        "temp=False\n",
        "i=2\n",
        "while i<num:\n",
        "    i=i+1\n",
        "    if num % i == 0 and num!=i: temp=True\n",
        "\n",
        "if temp ==True :\n",
        "  print(\"sayı asal değildir\")\n",
        "else:\n",
        "  print(\"sayı asaldır\")"
      ],
      "metadata": {
        "id": "qdJ5LCPN_tUe"
      },
      "execution_count": null,
      "outputs": []
    },
    {
      "cell_type": "code",
      "source": [
        "#2- girilen sayının faktöriyelini alan döngü(For)\n",
        "num =int( input(\"Bir değer giriniz: \"))\n",
        "faktoriyel=1\n",
        "for i in range(1,num+1):\n",
        "    faktoriyel=i*faktoriyel\n",
        "print(faktoriyel)"
      ],
      "metadata": {
        "id": "_B7Ft9_q_wdf"
      },
      "execution_count": null,
      "outputs": []
    },
    {
      "cell_type": "code",
      "source": [
        "#2- girilen sayının faktöriyelini alan döngü(while)\n",
        "num =int( input(\"Bir değer giriniz: \"))\n",
        "\n",
        "faktoriyel=1\n",
        "i=1\n",
        "while i<num:\n",
        "    i=i+1\n",
        "    faktoriyel=i*faktoriyel\n",
        "\n",
        "print(faktoriyel)"
      ],
      "metadata": {
        "id": "Hes5NTq__xKP"
      },
      "execution_count": null,
      "outputs": []
    },
    {
      "cell_type": "code",
      "source": [
        "#3- kullanıcıdan 2 sayı istenicek. Verilen 2. sayı 1. sayının kuvveti şeklinde yazılacak(for)\n",
        "num =int( input(\"Bir değer giriniz: \"))\n",
        "kuvvet =int( input(\"Bir kuvvet giriniz: \"))\n",
        "\n",
        "ustu=1\n",
        "for i in range(0,kuvvet):\n",
        "    ustu=ustu*num\n",
        "print(ustu)"
      ],
      "metadata": {
        "id": "GDuK4VzG_zPE"
      },
      "execution_count": null,
      "outputs": []
    },
    {
      "cell_type": "code",
      "source": [
        "#3- kullanıcıdan 2 sayı istenicek. Verilen 2. sayı 1. sayının kuvveti şeklinde yazılacak(while)\n",
        "num =int( input(\"Bir değer giriniz: \"))\n",
        "kuvvet =int( input(\"Bir kuvvet giriniz: \"))\n",
        "\n",
        "ustu=1\n",
        "i=0\n",
        "while i<kuvvet:\n",
        "    i=i+1\n",
        "    ustu=ustu*num\n",
        "\n",
        "print(ustu)\n"
      ],
      "metadata": {
        "id": "IJJNOde1_1Pt"
      },
      "execution_count": null,
      "outputs": []
    },
    {
      "cell_type": "code",
      "source": [
        "#4-[45, 85, 75, 50] listeki 75 değerinin listede kaçıncı indiste olduğunu bulan döngü (for)\n",
        "notlar = [45, 85, 75, 50]\n",
        "for i in range(len(notlar)):\n",
        "    if notlar[i] == 75:\n",
        "        print(\"75'in indeksi:\", i)\n",
        "        break"
      ],
      "metadata": {
        "id": "hrO6R2gv_3Do"
      },
      "execution_count": null,
      "outputs": []
    },
    {
      "cell_type": "code",
      "source": [
        "#4-[45, 85, 75, 50] listeki 75 değerinin listede kaçıncı indiste olduğunu bulan döngü (while)\n",
        "notlar = [45, 85, 75, 50]\n",
        "i = 0\n",
        "while i < len(notlar):\n",
        "    if notlar[i] == 75:\n",
        "        print(\"75'in indeksi:\", i)\n",
        "        break\n",
        "    i += 1"
      ],
      "metadata": {
        "id": "xVD90sLw_5hA"
      },
      "execution_count": null,
      "outputs": []
    }
  ]
}
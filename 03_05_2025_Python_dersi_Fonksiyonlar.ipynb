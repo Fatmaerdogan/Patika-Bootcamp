{
  "cells": [
    {
      "cell_type": "markdown",
      "metadata": {
        "id": "view-in-github",
        "colab_type": "text"
      },
      "source": [
        "<a href=\"https://colab.research.google.com/github/Fatmaerdogan/Patika-Bootcamp/blob/main/03_05_2025_Python_dersi_Fonksiyonlar.ipynb\" target=\"_parent\"><img src=\"https://colab.research.google.com/assets/colab-badge.svg\" alt=\"Open In Colab\"/></a>"
      ]
    },
    {
      "cell_type": "markdown",
      "metadata": {
        "id": "dYUN4-oUIQrV"
      },
      "source": [
        "## Fonksiyonlar"
      ]
    },
    {
      "cell_type": "markdown",
      "metadata": {
        "id": "K36GfKKpIQrg"
      },
      "source": [
        "# birden fazla output veren fonksiyonlar"
      ]
    },
    {
      "cell_type": "code",
      "execution_count": null,
      "metadata": {
        "id": "pjJrRFE9IQrg"
      },
      "outputs": [],
      "source": [
        "#bir fonksiyonun birden fazla outputu olursa, sonuçlar tuple döner"
      ]
    },
    {
      "cell_type": "code",
      "execution_count": null,
      "metadata": {
        "id": "-0seyGy3IQrg"
      },
      "outputs": [],
      "source": [
        "def f(x):\n",
        "    return 2**x, 10**x"
      ]
    },
    {
      "cell_type": "code",
      "execution_count": null,
      "metadata": {
        "id": "MV5QSwa6IQrg",
        "outputId": "d55e533d-424f-4aba-cbec-54e214523e75"
      },
      "outputs": [
        {
          "data": {
            "text/plain": [
              "(4, 100)"
            ]
          },
          "execution_count": 112,
          "metadata": {},
          "output_type": "execute_result"
        }
      ],
      "source": [
        "f(2)"
      ]
    },
    {
      "cell_type": "code",
      "execution_count": null,
      "metadata": {
        "id": "POKrDJhBIQrg",
        "outputId": "97ead51d-28c9-40e4-be22-62d9de5fd3d2"
      },
      "outputs": [
        {
          "data": {
            "text/plain": [
              "tuple"
            ]
          },
          "execution_count": 113,
          "metadata": {},
          "output_type": "execute_result"
        }
      ],
      "source": [
        "type(f(2))"
      ]
    },
    {
      "cell_type": "code",
      "execution_count": null,
      "metadata": {
        "id": "9xUBhirNIQrg",
        "outputId": "3846400f-8029-4c75-c9e3-ed78311d8681"
      },
      "outputs": [
        {
          "ename": "TypeError",
          "evalue": "can only concatenate tuple (not \"int\") to tuple",
          "output_type": "error",
          "traceback": [
            "\u001b[1;31m---------------------------------------------------------------------------\u001b[0m",
            "\u001b[1;31mTypeError\u001b[0m                                 Traceback (most recent call last)",
            "\u001b[1;32m<ipython-input-115-d2833fb2beff>\u001b[0m in \u001b[0;36m<module>\u001b[1;34m\u001b[0m\n\u001b[1;32m----> 1\u001b[1;33m \u001b[0mf\u001b[0m\u001b[1;33m(\u001b[0m\u001b[1;36m2\u001b[0m\u001b[1;33m)\u001b[0m \u001b[1;33m+\u001b[0m \u001b[1;36m2\u001b[0m\u001b[1;33m\u001b[0m\u001b[1;33m\u001b[0m\u001b[0m\n\u001b[0m",
            "\u001b[1;31mTypeError\u001b[0m: can only concatenate tuple (not \"int\") to tuple"
          ]
        }
      ],
      "source": [
        "f(2) + 2"
      ]
    },
    {
      "cell_type": "code",
      "execution_count": null,
      "metadata": {
        "id": "qnlJdnqIIQrg"
      },
      "outputs": [],
      "source": [
        "def g(x):\n",
        "    kuvvet= 2**x\n",
        "    çarpım=10*x\n",
        "    return kuvvet,çarpım"
      ]
    },
    {
      "cell_type": "code",
      "execution_count": null,
      "metadata": {
        "id": "3is4NesFIQrh",
        "outputId": "5b8dbd43-1913-4cab-9ee2-4b373ff4ecb4"
      },
      "outputs": [
        {
          "data": {
            "text/plain": [
              "(8, 30)"
            ]
          },
          "execution_count": 118,
          "metadata": {},
          "output_type": "execute_result"
        }
      ],
      "source": [
        "g(3)"
      ]
    },
    {
      "cell_type": "code",
      "execution_count": null,
      "metadata": {
        "id": "kRVTN_DeIQrh",
        "outputId": "52457511-5d9e-4446-d2a3-ae3122973be6"
      },
      "outputs": [
        {
          "name": "stdout",
          "output_type": "stream",
          "text": [
            "8 30\n"
          ]
        },
        {
          "data": {
            "text/plain": [
              "38"
            ]
          },
          "execution_count": 123,
          "metadata": {},
          "output_type": "execute_result"
        }
      ],
      "source": [
        "#tuple içindeki değerleri kullanmak için a,b ikilisine eşitledik. Böylece tuple içindeki değerleri kullanmış olduk\n",
        "a,b=g(3)   #(a,b)=(8,30) --->>>>> a=8 b=30\n",
        "\n",
        "print(a,b)\n",
        "a+b"
      ]
    },
    {
      "cell_type": "markdown",
      "metadata": {
        "id": "8iaIsMO9IQrh"
      },
      "source": [
        "# birden fazla input verilen fonksiyonlar"
      ]
    },
    {
      "cell_type": "code",
      "execution_count": null,
      "metadata": {
        "id": "3bYZSGWTIQrh"
      },
      "outputs": [],
      "source": [
        "def h(x,y):\n",
        "    kuvvet= x**y\n",
        "    return kuvvet"
      ]
    },
    {
      "cell_type": "code",
      "execution_count": null,
      "metadata": {
        "id": "vBz8U3C6IQrh",
        "outputId": "4900381d-0b71-4332-dff1-14db24e15bb6"
      },
      "outputs": [
        {
          "data": {
            "text/plain": [
              "8"
            ]
          },
          "execution_count": 125,
          "metadata": {},
          "output_type": "execute_result"
        }
      ],
      "source": [
        "h(2,3)"
      ]
    },
    {
      "cell_type": "code",
      "execution_count": null,
      "metadata": {
        "id": "3DTUKdg5IQrh",
        "outputId": "81c43d32-dc49-4e2d-ac92-3cec0c4db2ce"
      },
      "outputs": [
        {
          "ename": "TypeError",
          "evalue": "h() missing 1 required positional argument: 'y'",
          "output_type": "error",
          "traceback": [
            "\u001b[1;31m---------------------------------------------------------------------------\u001b[0m",
            "\u001b[1;31mTypeError\u001b[0m                                 Traceback (most recent call last)",
            "\u001b[1;32m<ipython-input-126-508fe4fdc8ba>\u001b[0m in \u001b[0;36m<module>\u001b[1;34m\u001b[0m\n\u001b[1;32m----> 1\u001b[1;33m \u001b[0mh\u001b[0m\u001b[1;33m(\u001b[0m\u001b[1;36m2\u001b[0m\u001b[1;33m)\u001b[0m\u001b[1;33m\u001b[0m\u001b[1;33m\u001b[0m\u001b[0m\n\u001b[0m",
            "\u001b[1;31mTypeError\u001b[0m: h() missing 1 required positional argument: 'y'"
          ]
        }
      ],
      "source": [
        "h(2)"
      ]
    },
    {
      "cell_type": "code",
      "execution_count": null,
      "metadata": {
        "id": "LN8q5WFPIQrh"
      },
      "outputs": [],
      "source": [
        "#eğer kullanıcı sadece x girerse default olarak y=1 alınır.\n",
        "#eğer kullanıcı hem x hem de y girerse y değeri güncellenir.\n",
        "def h(x,y=1):\n",
        "    kuvvet= x**y\n",
        "    return kuvvet"
      ]
    },
    {
      "cell_type": "code",
      "execution_count": null,
      "metadata": {
        "id": "U47ssAVMIQrh",
        "outputId": "a02660fe-116c-4d19-82dd-8031cb1508cc"
      },
      "outputs": [
        {
          "data": {
            "text/plain": [
              "3"
            ]
          },
          "execution_count": 131,
          "metadata": {},
          "output_type": "execute_result"
        }
      ],
      "source": [
        "h(3)"
      ]
    },
    {
      "cell_type": "code",
      "execution_count": null,
      "metadata": {
        "id": "vLqeKb9CIQrh",
        "outputId": "815c84db-a9a0-4bdf-be05-5b9989beb536"
      },
      "outputs": [
        {
          "data": {
            "text/plain": [
              "9"
            ]
          },
          "execution_count": 132,
          "metadata": {},
          "output_type": "execute_result"
        }
      ],
      "source": [
        "h(3,2)"
      ]
    },
    {
      "cell_type": "code",
      "execution_count": null,
      "metadata": {
        "id": "s1fGnaqJIQri"
      },
      "outputs": [],
      "source": [
        "#eğer kullanıcı 3. parametreyi girmezse 3.14 alır. Ancak parametre girilirse güncel değeri alır.\n",
        "\n",
        "def f(x,y,pi=3.14):\n",
        "    çarpım= x*y*pi\n",
        "    return çarpım"
      ]
    },
    {
      "cell_type": "code",
      "execution_count": null,
      "metadata": {
        "id": "2vI8XESuIQri",
        "outputId": "0c86c1c0-9f76-41f1-b4ff-90784f9e1d7b"
      },
      "outputs": [
        {
          "data": {
            "text/plain": [
              "18.84"
            ]
          },
          "execution_count": 135,
          "metadata": {},
          "output_type": "execute_result"
        }
      ],
      "source": [
        "pi=3,14\n",
        "f(2,3)"
      ]
    },
    {
      "cell_type": "code",
      "execution_count": null,
      "metadata": {
        "id": "Ud_Yed0XIQri",
        "outputId": "a0fc9a07-4647-431d-c6be-3970637c7f7e"
      },
      "outputs": [
        {
          "data": {
            "text/plain": [
              "18"
            ]
          },
          "execution_count": 136,
          "metadata": {},
          "output_type": "execute_result"
        }
      ],
      "source": [
        "#pi=3\n",
        "f(2,3,3)"
      ]
    },
    {
      "cell_type": "code",
      "execution_count": null,
      "metadata": {
        "id": "cgFW0TLKIQri"
      },
      "outputs": [],
      "source": [
        "#kullanıcıdan 2 sayı alınacak ve birinin diğerine bölümünden kalanını yazacak.fonksiyon ile"
      ]
    },
    {
      "cell_type": "code",
      "execution_count": null,
      "metadata": {
        "id": "A35WtIt_IQri"
      },
      "outputs": [],
      "source": [
        "f(x,y)"
      ]
    },
    {
      "cell_type": "code",
      "execution_count": null,
      "metadata": {
        "id": "p9T1PdNcIQri"
      },
      "outputs": [],
      "source": []
    },
    {
      "cell_type": "markdown",
      "source": [
        "# Ödevler"
      ],
      "metadata": {
        "id": "ouLn58e1_ojC"
      }
    },
    {
      "cell_type": "code",
      "source": [
        "#2- Fonksiyon ile girilen sayının faktöriyelini alma (while)\n",
        "def faktoriyel(n):\n",
        "    sonuc = 1\n",
        "    i = 1\n",
        "    while i <= n:\n",
        "        sonuc *= i\n",
        "        i += 1\n",
        "    return sonuc\n",
        "\n",
        "sayi = int(input(\"Sayı girin: \"))\n",
        "print(\"Faktöriyel:\", faktoriyel(sayi))"
      ],
      "metadata": {
        "colab": {
          "base_uri": "https://localhost:8080/"
        },
        "id": "tPS1fisn_rFN",
        "outputId": "75e2e081-479d-4e72-8112-21ca62d5ee55"
      },
      "execution_count": null,
      "outputs": [
        {
          "output_type": "stream",
          "name": "stdout",
          "text": [
            "Sayı girin: 12\n",
            "Faktöriyel: 479001600\n"
          ]
        }
      ]
    },
    {
      "cell_type": "code",
      "source": [
        "#2- Fonksiyon ile girilen sayının faktöriyelini alma (for)\n",
        "def faktoriyel(n):\n",
        "    sonuc = 1\n",
        "    for i in range(1, n + 1):\n",
        "        sonuc *= i\n",
        "    return sonuc\n",
        "\n",
        "sayi = int(input(\"Sayı girin: \"))\n",
        "print(\"Faktöriyel:\", faktoriyel(sayi))"
      ],
      "metadata": {
        "colab": {
          "base_uri": "https://localhost:8080/"
        },
        "id": "qEflaK5L_v0C",
        "outputId": "ec7769c4-39a9-401f-9c77-0657dbd3dc70"
      },
      "execution_count": null,
      "outputs": [
        {
          "output_type": "stream",
          "name": "stdout",
          "text": [
            "Sayı girin: 5\n",
            "Faktöriyel: 120\n"
          ]
        }
      ]
    },
    {
      "cell_type": "code",
      "source": [
        "#1- Fonksiyon ile girilen sayının asal olup olmadığını bulan yapı (while)\n",
        "def asal_mi(n):\n",
        "    if n <= 1:\n",
        "        return False\n",
        "    i = 2\n",
        "    while i < n:\n",
        "        if n % i == 0:\n",
        "            return False\n",
        "        i += 1\n",
        "    return True\n",
        "\n",
        "sayi = int(input(\"Sayı girin: \"))\n",
        "print(\"Asal\" if asal_mi(sayi) else \"Asal değil\")"
      ],
      "metadata": {
        "colab": {
          "base_uri": "https://localhost:8080/"
        },
        "id": "8O3dg4mn_8tk",
        "outputId": "00f5f21f-0ee1-442c-8c69-68431bcbec74"
      },
      "execution_count": null,
      "outputs": [
        {
          "output_type": "stream",
          "name": "stdout",
          "text": [
            "Sayı girin: 5\n",
            "Asal\n"
          ]
        }
      ]
    },
    {
      "cell_type": "code",
      "source": [
        "#1- Fonksiyon ile girilen sayının asal olup olmadığını bulan yapı (for)\n",
        "def asal_mi(n):\n",
        "    if n <= 1:\n",
        "        return False\n",
        "    for i in range(2, n):\n",
        "        if n % i == 0:\n",
        "            return False\n",
        "    return True\n",
        "\n",
        "sayi = int(input(\"Sayı girin: \"))\n",
        "print(\"Asal\" if asal_mi(sayi) else \"Asal değil\")"
      ],
      "metadata": {
        "colab": {
          "base_uri": "https://localhost:8080/"
        },
        "id": "9CYEOg96ABco",
        "outputId": "eda575c8-8f01-4623-f397-128dd2a029c1"
      },
      "execution_count": null,
      "outputs": [
        {
          "output_type": "stream",
          "name": "stdout",
          "text": [
            "Sayı girin: 12\n",
            "Asal değil\n"
          ]
        }
      ]
    },
    {
      "cell_type": "code",
      "source": [],
      "metadata": {
        "id": "73bsjifIAJQG"
      },
      "execution_count": null,
      "outputs": []
    }
  ],
  "metadata": {
    "kernelspec": {
      "display_name": "Python 3",
      "language": "python",
      "name": "python3"
    },
    "language_info": {
      "codemirror_mode": {
        "name": "ipython",
        "version": 3
      },
      "file_extension": ".py",
      "mimetype": "text/x-python",
      "name": "python",
      "nbconvert_exporter": "python",
      "pygments_lexer": "ipython3",
      "version": "3.7.6"
    },
    "colab": {
      "provenance": [],
      "toc_visible": true,
      "include_colab_link": true
    }
  },
  "nbformat": 4,
  "nbformat_minor": 0
}